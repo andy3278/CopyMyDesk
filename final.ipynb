{
 "cells": [
  {
   "cell_type": "code",
   "execution_count": 1,
   "metadata": {},
   "outputs": [],
   "source": [
    "import pandas as pd\n",
    "from datetime import datetime\n",
    "import os\n",
    "from dotenv import load_dotenv, find_dotenv\n",
    "import openai"
   ]
  },
  {
   "cell_type": "code",
   "execution_count": 27,
   "metadata": {},
   "outputs": [
    {
     "data": {
      "text/html": [
       "<div>\n",
       "<style scoped>\n",
       "    .dataframe tbody tr th:only-of-type {\n",
       "        vertical-align: middle;\n",
       "    }\n",
       "\n",
       "    .dataframe tbody tr th {\n",
       "        vertical-align: top;\n",
       "    }\n",
       "\n",
       "    .dataframe thead th {\n",
       "        text-align: right;\n",
       "    }\n",
       "</style>\n",
       "<table border=\"1\" class=\"dataframe\">\n",
       "  <thead>\n",
       "    <tr style=\"text-align: right;\">\n",
       "      <th></th>\n",
       "      <th>video_id</th>\n",
       "      <th>title</th>\n",
       "      <th>channel</th>\n",
       "      <th>release_date</th>\n",
       "      <th>transcript_text</th>\n",
       "      <th>word_count</th>\n",
       "      <th>OS</th>\n",
       "      <th>mouse_context</th>\n",
       "      <th>mouse</th>\n",
       "    </tr>\n",
       "  </thead>\n",
       "  <tbody>\n",
       "    <tr>\n",
       "      <th>0</th>\n",
       "      <td>8cZtbjI5FnQ</td>\n",
       "      <td>My NEW Ultimate Desk Setup &amp;amp; Office Tour 2...</td>\n",
       "      <td>UrAvgConsumer</td>\n",
       "      <td>2023-09-30 16:21:44</td>\n",
       "      <td>what's going on guys it's your average consume...</td>\n",
       "      <td>2856</td>\n",
       "      <td>Mac</td>\n",
       "      <td>NaN</td>\n",
       "      <td>Logitech MX Master 3</td>\n",
       "    </tr>\n",
       "    <tr>\n",
       "      <th>1</th>\n",
       "      <td>gYgaxdUAAS0</td>\n",
       "      <td>My NEW Ultimate Desk &amp;amp; Setup Tour 2023!</td>\n",
       "      <td>Techno Tim</td>\n",
       "      <td>2023-10-21 15:00:58</td>\n",
       "      <td>What's up everyone? How's it going? So this pa...</td>\n",
       "      <td>3674</td>\n",
       "      <td>Mac</td>\n",
       "      <td>you could put all kinds of stuff in here and s...</td>\n",
       "      <td>super high DPI mouse</td>\n",
       "    </tr>\n",
       "    <tr>\n",
       "      <th>2</th>\n",
       "      <td>D43lCHSdrSo</td>\n",
       "      <td>The ALL-ROUNDER Desk Setup - Build &amp;amp; Tour ...</td>\n",
       "      <td>ThisIsE</td>\n",
       "      <td>2023-10-21 13:18:22</td>\n",
       "      <td>this video is brought to you by ug green I've ...</td>\n",
       "      <td>2528</td>\n",
       "      <td>Mac</td>\n",
       "      <td>the bottom are very much like the feet on the ...</td>\n",
       "      <td>Gladius 3 Gladius Gladius</td>\n",
       "    </tr>\n",
       "    <tr>\n",
       "      <th>3</th>\n",
       "      <td>KwW-m69tAz8</td>\n",
       "      <td>My ultimate DREAM desk setup (2023)</td>\n",
       "      <td>Patrick Rambles</td>\n",
       "      <td>2023-07-04 13:00:13</td>\n",
       "      <td>so guys ever since I've moved into this new st...</td>\n",
       "      <td>3168</td>\n",
       "      <td>Mac</td>\n",
       "      <td>most used emojis on here and I even created a ...</td>\n",
       "      <td>Logitech MX Master 3s</td>\n",
       "    </tr>\n",
       "    <tr>\n",
       "      <th>4</th>\n",
       "      <td>SjcvBFfMulY</td>\n",
       "      <td>My Productivity Desk Setup (2023)</td>\n",
       "      <td>Ali Abdaal</td>\n",
       "      <td>2023-09-19 13:00:32</td>\n",
       "      <td>foreign   welcome back to the channel and to m...</td>\n",
       "      <td>4503</td>\n",
       "      <td>Mac</td>\n",
       "      <td>really good but I'm not an audiophile I cannot...</td>\n",
       "      <td>Logitech MX Master 3s Mouse</td>\n",
       "    </tr>\n",
       "  </tbody>\n",
       "</table>\n",
       "</div>"
      ],
      "text/plain": [
       "      video_id                                              title  \\\n",
       "0  8cZtbjI5FnQ  My NEW Ultimate Desk Setup &amp; Office Tour 2...   \n",
       "1  gYgaxdUAAS0        My NEW Ultimate Desk &amp; Setup Tour 2023!   \n",
       "2  D43lCHSdrSo  The ALL-ROUNDER Desk Setup - Build &amp; Tour ...   \n",
       "3  KwW-m69tAz8                My ultimate DREAM desk setup (2023)   \n",
       "4  SjcvBFfMulY                  My Productivity Desk Setup (2023)   \n",
       "\n",
       "           channel         release_date  \\\n",
       "0    UrAvgConsumer  2023-09-30 16:21:44   \n",
       "1       Techno Tim  2023-10-21 15:00:58   \n",
       "2          ThisIsE  2023-10-21 13:18:22   \n",
       "3  Patrick Rambles  2023-07-04 13:00:13   \n",
       "4       Ali Abdaal  2023-09-19 13:00:32   \n",
       "\n",
       "                                     transcript_text  word_count   OS  \\\n",
       "0  what's going on guys it's your average consume...        2856  Mac   \n",
       "1  What's up everyone? How's it going? So this pa...        3674  Mac   \n",
       "2  this video is brought to you by ug green I've ...        2528  Mac   \n",
       "3  so guys ever since I've moved into this new st...        3168  Mac   \n",
       "4  foreign   welcome back to the channel and to m...        4503  Mac   \n",
       "\n",
       "                                       mouse_context  \\\n",
       "0                                                NaN   \n",
       "1  you could put all kinds of stuff in here and s...   \n",
       "2  the bottom are very much like the feet on the ...   \n",
       "3  most used emojis on here and I even created a ...   \n",
       "4  really good but I'm not an audiophile I cannot...   \n",
       "\n",
       "                         mouse  \n",
       "0         Logitech MX Master 3  \n",
       "1         super high DPI mouse  \n",
       "2    Gladius 3 Gladius Gladius  \n",
       "3        Logitech MX Master 3s  \n",
       "4  Logitech MX Master 3s Mouse  "
      ]
     },
     "execution_count": 27,
     "metadata": {},
     "output_type": "execute_result"
    }
   ],
   "source": [
    "df = pd.read_csv('./data/LLM-and-manual-cleaned-data.csv')\n",
    "df.head()"
   ]
  },
  {
   "cell_type": "code",
   "execution_count": 28,
   "metadata": {},
   "outputs": [
    {
     "data": {
      "text/plain": [
       "215"
      ]
     },
     "execution_count": 28,
     "metadata": {},
     "output_type": "execute_result"
    }
   ],
   "source": [
    "# see unique mice\n",
    "len(set(df.mouse.tolist()))"
   ]
  },
  {
   "cell_type": "code",
   "execution_count": 29,
   "metadata": {},
   "outputs": [],
   "source": [
    "# many mice are same mouse but different names\n",
    "mxm3 = ['Logitech MX Master 3', 'Logitech MX Master 3 Mouse','Logitech MX Master III','Logitech MX3','MX Master 3',\n",
    "        'MX Master 3 Mouse', 'MX Master III','mxm 3']\n",
    "mxm3s = ['Logitech MX Master 3s', 'Logitech MX Master 3s Mouse','Logitech mxm 3s','MX Master 3s','MX Master 3s Mouse','MX Masters 3s','mxm 3s']\n",
    "apple_magic = ['Apple Magic Mouse','Apple magic','Apple Mouse','magic mouse','Magic Mouse','magic mouse']\n",
    "trackpad = ['MacBook Air', 'MacBook Pro','magic touchpad','trackpad']\n",
    "razer = ['Razer', 'razer']\n",
    "\n"
   ]
  },
  {
   "cell_type": "code",
   "execution_count": 30,
   "metadata": {},
   "outputs": [
    {
     "data": {
      "text/plain": [
       "Logitech MX Master 3     54\n",
       "Logitech MX Master 3s    35\n",
       "Trackpad                 28\n",
       "Apple Magic Mouse        21\n",
       "NA                       15\n",
       "                         ..\n",
       "MX Ergo                   1\n",
       "Logitech Gaming mouse     1\n",
       "Cal digit TS3             1\n",
       "Avalanche mouse           1\n",
       "G-Force                   1\n",
       "Name: mouse, Length: 195, dtype: int64"
      ]
     },
     "execution_count": 30,
     "metadata": {},
     "output_type": "execute_result"
    }
   ],
   "source": [
    "for index, row in df.iterrows():\n",
    "    if row['mouse'] in mxm3:\n",
    "        df.loc[index, 'mouse'] = 'Logitech MX Master 3'\n",
    "    elif row['mouse'] in mxm3s:\n",
    "        df.loc[index, 'mouse'] = 'Logitech MX Master 3s'\n",
    "    elif row['mouse'] in apple_magic:\n",
    "        df.loc[index, 'mouse'] = 'Apple Magic Mouse'\n",
    "    elif row['mouse'] in trackpad:\n",
    "        df.loc[index, 'mouse'] = 'Trackpad'\n",
    "    elif row['mouse'] in razer:\n",
    "        df.loc[index, 'mouse'] = 'Razer'\n",
    "    elif row['mouse'] == 'keyboard':\n",
    "        df.loc[index, 'mouse'] = \"NA\"\n",
    "    else:\n",
    "        pass\n",
    "df.mouse.value_counts()"
   ]
  },
  {
   "cell_type": "code",
   "execution_count": 31,
   "metadata": {},
   "outputs": [
    {
     "data": {
      "text/plain": [
       "<AxesSubplot:>"
      ]
     },
     "execution_count": 31,
     "metadata": {},
     "output_type": "execute_result"
    },
    {
     "data": {
      "image/png": "[encoded data removed]",
      "text/plain": [
       "<Figure size 432x288 with 1 Axes>"
      ]
     },
     "metadata": {
      "needs_background": "light"
     },
     "output_type": "display_data"
    }
   ],
   "source": [
    "# plot top 5 mice\n",
    "df.mouse.value_counts().head(5).plot(kind='barh')\n"
   ]
  },
  {
   "cell_type": "code",
   "execution_count": 32,
   "metadata": {},
   "outputs": [
    {
     "data": {
      "text/plain": [
       "0.35096153846153844"
      ]
     },
     "execution_count": 32,
     "metadata": {},
     "output_type": "execute_result"
    }
   ],
   "source": [
    "# see how many logitech mice\n",
    "number_of_logitech = len(df[df['mouse'].fillna('').str.contains('Logitech')])\n",
    "number_of_logitech / len(df)"
   ]
  },
  {
   "cell_type": "code",
   "execution_count": null,
   "metadata": {},
   "outputs": [],
   "source": []
  }
 ],
 "metadata": {
  "kernelspec": {
   "display_name": "Python 3",
   "language": "python",
   "name": "python3"
  },
  "language_info": {
   "codemirror_mode": {
    "name": "ipython",
    "version": 3
   },
   "file_extension": ".py",
   "mimetype": "text/x-python",
   "name": "python",
   "nbconvert_exporter": "python",
   "pygments_lexer": "ipython3",
   "version": "3.9.13"
  }
 },
 "nbformat": 4,
 "nbformat_minor": 2
}
