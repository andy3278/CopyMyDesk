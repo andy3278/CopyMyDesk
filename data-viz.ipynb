{
 "cells": [
  {
   "cell_type": "code",
   "execution_count": 1,
   "metadata": {},
   "outputs": [],
   "source": [
    "import pandas as pd"
   ]
  },
  {
   "cell_type": "code",
   "execution_count": 2,
   "metadata": {},
   "outputs": [
    {
     "data": {
      "text/html": [
       "<div>\n",
       "<style scoped>\n",
       "    .dataframe tbody tr th:only-of-type {\n",
       "        vertical-align: middle;\n",
       "    }\n",
       "\n",
       "    .dataframe tbody tr th {\n",
       "        vertical-align: top;\n",
       "    }\n",
       "\n",
       "    .dataframe thead th {\n",
       "        text-align: right;\n",
       "    }\n",
       "</style>\n",
       "<table border=\"1\" class=\"dataframe\">\n",
       "  <thead>\n",
       "    <tr style=\"text-align: right;\">\n",
       "      <th></th>\n",
       "      <th>video_id</th>\n",
       "      <th>title</th>\n",
       "      <th>channel</th>\n",
       "      <th>release_date</th>\n",
       "      <th>transcript_text</th>\n",
       "      <th>word_count</th>\n",
       "    </tr>\n",
       "  </thead>\n",
       "  <tbody>\n",
       "    <tr>\n",
       "      <th>0</th>\n",
       "      <td>gYgaxdUAAS0</td>\n",
       "      <td>My NEW Ultimate Desk &amp;amp; Setup Tour 2023!</td>\n",
       "      <td>Techno Tim</td>\n",
       "      <td>2023-10-21 15:00:58</td>\n",
       "      <td>What's up everyone? How's it going? So this pa...</td>\n",
       "      <td>3674</td>\n",
       "    </tr>\n",
       "    <tr>\n",
       "      <th>1</th>\n",
       "      <td>8cZtbjI5FnQ</td>\n",
       "      <td>My NEW Ultimate Desk Setup &amp;amp; Office Tour 2...</td>\n",
       "      <td>UrAvgConsumer</td>\n",
       "      <td>2023-09-30 16:21:44</td>\n",
       "      <td>what's going on guys it's your average consume...</td>\n",
       "      <td>2856</td>\n",
       "    </tr>\n",
       "    <tr>\n",
       "      <th>2</th>\n",
       "      <td>D43lCHSdrSo</td>\n",
       "      <td>The ALL-ROUNDER Desk Setup - Build &amp;amp; Tour ...</td>\n",
       "      <td>ThisIsE</td>\n",
       "      <td>2023-10-21 13:18:22</td>\n",
       "      <td>this video is brought to you by ug green I've ...</td>\n",
       "      <td>2528</td>\n",
       "    </tr>\n",
       "    <tr>\n",
       "      <th>3</th>\n",
       "      <td>KwW-m69tAz8</td>\n",
       "      <td>My ultimate DREAM desk setup (2023)</td>\n",
       "      <td>Patrick Rambles</td>\n",
       "      <td>2023-07-04 13:00:13</td>\n",
       "      <td>so guys ever since I've moved into this new st...</td>\n",
       "      <td>3168</td>\n",
       "    </tr>\n",
       "    <tr>\n",
       "      <th>4</th>\n",
       "      <td>SjcvBFfMulY</td>\n",
       "      <td>My Productivity Desk Setup (2023)</td>\n",
       "      <td>Ali Abdaal</td>\n",
       "      <td>2023-09-19 13:00:32</td>\n",
       "      <td>foreign   welcome back to the channel and to m...</td>\n",
       "      <td>4503</td>\n",
       "    </tr>\n",
       "  </tbody>\n",
       "</table>\n",
       "</div>"
      ],
      "text/plain": [
       "      video_id                                              title  \\\n",
       "0  gYgaxdUAAS0        My NEW Ultimate Desk &amp; Setup Tour 2023!   \n",
       "1  8cZtbjI5FnQ  My NEW Ultimate Desk Setup &amp; Office Tour 2...   \n",
       "2  D43lCHSdrSo  The ALL-ROUNDER Desk Setup - Build &amp; Tour ...   \n",
       "3  KwW-m69tAz8                My ultimate DREAM desk setup (2023)   \n",
       "4  SjcvBFfMulY                  My Productivity Desk Setup (2023)   \n",
       "\n",
       "           channel         release_date  \\\n",
       "0       Techno Tim  2023-10-21 15:00:58   \n",
       "1    UrAvgConsumer  2023-09-30 16:21:44   \n",
       "2          ThisIsE  2023-10-21 13:18:22   \n",
       "3  Patrick Rambles  2023-07-04 13:00:13   \n",
       "4       Ali Abdaal  2023-09-19 13:00:32   \n",
       "\n",
       "                                     transcript_text  word_count  \n",
       "0  What's up everyone? How's it going? So this pa...        3674  \n",
       "1  what's going on guys it's your average consume...        2856  \n",
       "2  this video is brought to you by ug green I've ...        2528  \n",
       "3  so guys ever since I've moved into this new st...        3168  \n",
       "4  foreign   welcome back to the channel and to m...        4503  "
      ]
     },
     "execution_count": 2,
     "metadata": {},
     "output_type": "execute_result"
    }
   ],
   "source": [
    "df = pd.read_csv('./data/cleaned-youtube-desk-setup.csv')\n",
    "df.head()"
   ]
  },
  {
   "cell_type": "code",
   "execution_count": 3,
   "metadata": {},
   "outputs": [
    {
     "name": "stdout",
     "output_type": "stream",
     "text": [
      "<class 'pandas.core.frame.DataFrame'>\n",
      "RangeIndex: 770 entries, 0 to 769\n",
      "Data columns (total 6 columns):\n",
      " #   Column           Non-Null Count  Dtype \n",
      "---  ------           --------------  ----- \n",
      " 0   video_id         770 non-null    object\n",
      " 1   title            770 non-null    object\n",
      " 2   channel          770 non-null    object\n",
      " 3   release_date     770 non-null    object\n",
      " 4   transcript_text  770 non-null    object\n",
      " 5   word_count       770 non-null    int64 \n",
      "dtypes: int64(1), object(5)\n",
      "memory usage: 36.2+ KB\n"
     ]
    }
   ],
   "source": [
    "df.info()"
   ]
  },
  {
   "cell_type": "code",
   "execution_count": 4,
   "metadata": {},
   "outputs": [
    {
     "name": "stdout",
     "output_type": "stream",
     "text": [
      "<class 'pandas.core.frame.DataFrame'>\n",
      "RangeIndex: 770 entries, 0 to 769\n",
      "Data columns (total 6 columns):\n",
      " #   Column           Non-Null Count  Dtype         \n",
      "---  ------           --------------  -----         \n",
      " 0   video_id         770 non-null    object        \n",
      " 1   title            770 non-null    object        \n",
      " 2   channel          770 non-null    object        \n",
      " 3   release_date     770 non-null    datetime64[ns]\n",
      " 4   transcript_text  770 non-null    object        \n",
      " 5   word_count       770 non-null    int64         \n",
      "dtypes: datetime64[ns](1), int64(1), object(4)\n",
      "memory usage: 36.2+ KB\n"
     ]
    }
   ],
   "source": [
    "df['release_date'] = pd.to_datetime(df['release_date'])\n",
    "df.info()"
   ]
  },
  {
   "cell_type": "code",
   "execution_count": 5,
   "metadata": {},
   "outputs": [
    {
     "data": {
      "text/html": [
       "<div>\n",
       "<style scoped>\n",
       "    .dataframe tbody tr th:only-of-type {\n",
       "        vertical-align: middle;\n",
       "    }\n",
       "\n",
       "    .dataframe tbody tr th {\n",
       "        vertical-align: top;\n",
       "    }\n",
       "\n",
       "    .dataframe thead th {\n",
       "        text-align: right;\n",
       "    }\n",
       "</style>\n",
       "<table border=\"1\" class=\"dataframe\">\n",
       "  <thead>\n",
       "    <tr style=\"text-align: right;\">\n",
       "      <th></th>\n",
       "      <th>video_id</th>\n",
       "      <th>title</th>\n",
       "      <th>channel</th>\n",
       "      <th>release_date</th>\n",
       "      <th>transcript_text</th>\n",
       "      <th>word_count</th>\n",
       "    </tr>\n",
       "  </thead>\n",
       "  <tbody>\n",
       "    <tr>\n",
       "      <th>0</th>\n",
       "      <td>gYgaxdUAAS0</td>\n",
       "      <td>My NEW Ultimate Desk &amp;amp; Setup Tour 2023!</td>\n",
       "      <td>Techno Tim</td>\n",
       "      <td>2023-10-21 15:00:58</td>\n",
       "      <td>What's up everyone? How's it going? So this pa...</td>\n",
       "      <td>3674</td>\n",
       "    </tr>\n",
       "    <tr>\n",
       "      <th>1</th>\n",
       "      <td>8cZtbjI5FnQ</td>\n",
       "      <td>My NEW Ultimate Desk Setup &amp;amp; Office Tour 2...</td>\n",
       "      <td>UrAvgConsumer</td>\n",
       "      <td>2023-09-30 16:21:44</td>\n",
       "      <td>what's going on guys it's your average consume...</td>\n",
       "      <td>2856</td>\n",
       "    </tr>\n",
       "    <tr>\n",
       "      <th>2</th>\n",
       "      <td>D43lCHSdrSo</td>\n",
       "      <td>The ALL-ROUNDER Desk Setup - Build &amp;amp; Tour ...</td>\n",
       "      <td>ThisIsE</td>\n",
       "      <td>2023-10-21 13:18:22</td>\n",
       "      <td>this video is brought to you by ug green I've ...</td>\n",
       "      <td>2528</td>\n",
       "    </tr>\n",
       "    <tr>\n",
       "      <th>3</th>\n",
       "      <td>KwW-m69tAz8</td>\n",
       "      <td>My ultimate DREAM desk setup (2023)</td>\n",
       "      <td>Patrick Rambles</td>\n",
       "      <td>2023-07-04 13:00:13</td>\n",
       "      <td>so guys ever since I've moved into this new st...</td>\n",
       "      <td>3168</td>\n",
       "    </tr>\n",
       "    <tr>\n",
       "      <th>4</th>\n",
       "      <td>SjcvBFfMulY</td>\n",
       "      <td>My Productivity Desk Setup (2023)</td>\n",
       "      <td>Ali Abdaal</td>\n",
       "      <td>2023-09-19 13:00:32</td>\n",
       "      <td>foreign   welcome back to the channel and to m...</td>\n",
       "      <td>4503</td>\n",
       "    </tr>\n",
       "  </tbody>\n",
       "</table>\n",
       "</div>"
      ],
      "text/plain": [
       "      video_id                                              title  \\\n",
       "0  gYgaxdUAAS0        My NEW Ultimate Desk &amp; Setup Tour 2023!   \n",
       "1  8cZtbjI5FnQ  My NEW Ultimate Desk Setup &amp; Office Tour 2...   \n",
       "2  D43lCHSdrSo  The ALL-ROUNDER Desk Setup - Build &amp; Tour ...   \n",
       "3  KwW-m69tAz8                My ultimate DREAM desk setup (2023)   \n",
       "4  SjcvBFfMulY                  My Productivity Desk Setup (2023)   \n",
       "\n",
       "           channel        release_date  \\\n",
       "0       Techno Tim 2023-10-21 15:00:58   \n",
       "1    UrAvgConsumer 2023-09-30 16:21:44   \n",
       "2          ThisIsE 2023-10-21 13:18:22   \n",
       "3  Patrick Rambles 2023-07-04 13:00:13   \n",
       "4       Ali Abdaal 2023-09-19 13:00:32   \n",
       "\n",
       "                                     transcript_text  word_count  \n",
       "0  What's up everyone? How's it going? So this pa...        3674  \n",
       "1  what's going on guys it's your average consume...        2856  \n",
       "2  this video is brought to you by ug green I've ...        2528  \n",
       "3  so guys ever since I've moved into this new st...        3168  \n",
       "4  foreign   welcome back to the channel and to m...        4503  "
      ]
     },
     "execution_count": 5,
     "metadata": {},
     "output_type": "execute_result"
    }
   ],
   "source": [
    "df.head()"
   ]
  },
  {
   "cell_type": "code",
   "execution_count": null,
   "metadata": {},
   "outputs": [],
   "source": []
  }
 ],
 "metadata": {
  "kernelspec": {
   "display_name": "streamlit",
   "language": "python",
   "name": "python3"
  },
  "language_info": {
   "codemirror_mode": {
    "name": "ipython",
    "version": 3
   },
   "file_extension": ".py",
   "mimetype": "text/x-python",
   "name": "python",
   "nbconvert_exporter": "python",
   "pygments_lexer": "ipython3",
   "version": "3.9.13"
  }
 },
 "nbformat": 4,
 "nbformat_minor": 2
}
